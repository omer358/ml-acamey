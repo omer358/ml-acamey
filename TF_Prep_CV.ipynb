{
  "nbformat": 4,
  "nbformat_minor": 0,
  "metadata": {
    "colab": {
      "name": "TF_Prep_CV.ipynb",
      "provenance": [],
      "authorship_tag": "ABX9TyNX/hybxNGV8KxC+9/bdt0L",
      "include_colab_link": true
    },
    "kernelspec": {
      "name": "python3",
      "display_name": "Python 3"
    },
    "language_info": {
      "name": "python"
    }
  },
  "cells": [
    {
      "cell_type": "markdown",
      "metadata": {
        "id": "view-in-github",
        "colab_type": "text"
      },
      "source": [
        "<a href=\"https://colab.research.google.com/github/omer358/ml-acamey/blob/master/TF_Prep_CV.ipynb\" target=\"_parent\"><img src=\"https://colab.research.google.com/assets/colab-badge.svg\" alt=\"Open In Colab\"/></a>"
      ]
    },
    {
      "cell_type": "code",
      "execution_count": null,
      "metadata": {
        "id": "tEHpYJxruwbi"
      },
      "outputs": [],
      "source": [
        ""
      ]
    }
  ]
}